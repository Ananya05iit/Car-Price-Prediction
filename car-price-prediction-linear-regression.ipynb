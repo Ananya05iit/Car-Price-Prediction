{
 "cells": [
  {
   "cell_type": "code",
   "execution_count": 1,
   "id": "27422ee4",
   "metadata": {
    "_cell_guid": "b1076dfc-b9ad-4769-8c92-a6c4dae69d19",
    "_uuid": "8f2839f25d086af736a60e9eeb907d3b93b6e0e5",
    "execution": {
     "iopub.execute_input": "2023-12-25T18:51:03.120984Z",
     "iopub.status.busy": "2023-12-25T18:51:03.120620Z",
     "iopub.status.idle": "2023-12-25T18:51:03.458218Z",
     "shell.execute_reply": "2023-12-25T18:51:03.456610Z"
    },
    "papermill": {
     "duration": 0.34899,
     "end_time": "2023-12-25T18:51:03.460196",
     "exception": false,
     "start_time": "2023-12-25T18:51:03.111206",
     "status": "completed"
    },
    "tags": []
   },
   "outputs": [
    {
     "name": "stdout",
     "output_type": "stream",
     "text": [
      "/kaggle/input/car-price-prediction-dataset/car_prediction_data.csv\n"
     ]
    }
   ],
   "source": [
    "# This Python 3 environment comes with many helpful analytics libraries installed\n",
    "# It is defined by the kaggle/python Docker image: https://github.com/kaggle/docker-python\n",
    "# For example, here's several helpful packages to load\n",
    "\n",
    "import numpy as np # linear algebra\n",
    "import pandas as pd # data processing, CSV file I/O (e.g. pd.read_csv)\n",
    "import matplotlib.pyplot as plt\n",
    "import math\n",
    "import copy\n",
    "\n",
    "# Input data files are available in the read-only \"../input/\" directory\n",
    "# For example, running this (by clicking run or pressing Shift+Enter) will list all files under the input directory\n",
    "\n",
    "import os\n",
    "for dirname, _, filenames in os.walk('/kaggle/input'):\n",
    "    for filename in filenames:\n",
    "        print(os.path.join(dirname, filename))\n",
    "\n",
    "# You can write up to 20GB to the current directory (/kaggle/working/) that gets preserved as output when you create a version using \"Save & Run All\" \n",
    "# You can also write temporary files to /kaggle/temp/, but they won't be saved outside of the current session"
   ]
  },
  {
   "cell_type": "markdown",
   "id": "e0e1d989",
   "metadata": {
    "papermill": {
     "duration": 0.007623,
     "end_time": "2023-12-25T18:51:03.476068",
     "exception": false,
     "start_time": "2023-12-25T18:51:03.468445",
     "status": "completed"
    },
    "tags": []
   },
   "source": [
    "# **Lets the load the csv file data into a variable data**"
   ]
  },
  {
   "cell_type": "code",
   "execution_count": 2,
   "id": "17eb6a90",
   "metadata": {
    "execution": {
     "iopub.execute_input": "2023-12-25T18:51:03.494037Z",
     "iopub.status.busy": "2023-12-25T18:51:03.493260Z",
     "iopub.status.idle": "2023-12-25T18:51:03.514590Z",
     "shell.execute_reply": "2023-12-25T18:51:03.513368Z"
    },
    "papermill": {
     "duration": 0.033436,
     "end_time": "2023-12-25T18:51:03.517398",
     "exception": false,
     "start_time": "2023-12-25T18:51:03.483962",
     "status": "completed"
    },
    "tags": []
   },
   "outputs": [],
   "source": [
    "data = pd.read_csv('/kaggle/input/car-price-prediction-dataset/car_prediction_data.csv')"
   ]
  },
  {
   "cell_type": "markdown",
   "id": "78025c2d",
   "metadata": {
    "papermill": {
     "duration": 0.007853,
     "end_time": "2023-12-25T18:51:03.533096",
     "exception": false,
     "start_time": "2023-12-25T18:51:03.525243",
     "status": "completed"
    },
    "tags": []
   },
   "source": [
    "# **Lets analyse the data now !**"
   ]
  },
  {
   "cell_type": "code",
   "execution_count": 3,
   "id": "ca3b73df",
   "metadata": {
    "execution": {
     "iopub.execute_input": "2023-12-25T18:51:03.549697Z",
     "iopub.status.busy": "2023-12-25T18:51:03.549339Z",
     "iopub.status.idle": "2023-12-25T18:51:03.589966Z",
     "shell.execute_reply": "2023-12-25T18:51:03.588946Z"
    },
    "papermill": {
     "duration": 0.051552,
     "end_time": "2023-12-25T18:51:03.592258",
     "exception": false,
     "start_time": "2023-12-25T18:51:03.540706",
     "status": "completed"
    },
    "tags": []
   },
   "outputs": [
    {
     "data": {
      "text/html": [
       "<div>\n",
       "<style scoped>\n",
       "    .dataframe tbody tr th:only-of-type {\n",
       "        vertical-align: middle;\n",
       "    }\n",
       "\n",
       "    .dataframe tbody tr th {\n",
       "        vertical-align: top;\n",
       "    }\n",
       "\n",
       "    .dataframe thead th {\n",
       "        text-align: right;\n",
       "    }\n",
       "</style>\n",
       "<table border=\"1\" class=\"dataframe\">\n",
       "  <thead>\n",
       "    <tr style=\"text-align: right;\">\n",
       "      <th></th>\n",
       "      <th>Year</th>\n",
       "      <th>Selling_Price</th>\n",
       "      <th>Present_Price</th>\n",
       "      <th>Kms_Driven</th>\n",
       "      <th>Owner</th>\n",
       "    </tr>\n",
       "  </thead>\n",
       "  <tbody>\n",
       "    <tr>\n",
       "      <th>count</th>\n",
       "      <td>301.000000</td>\n",
       "      <td>301.000000</td>\n",
       "      <td>301.000000</td>\n",
       "      <td>301.000000</td>\n",
       "      <td>301.000000</td>\n",
       "    </tr>\n",
       "    <tr>\n",
       "      <th>mean</th>\n",
       "      <td>2013.627907</td>\n",
       "      <td>4.661296</td>\n",
       "      <td>7.628472</td>\n",
       "      <td>36947.205980</td>\n",
       "      <td>0.043189</td>\n",
       "    </tr>\n",
       "    <tr>\n",
       "      <th>std</th>\n",
       "      <td>2.891554</td>\n",
       "      <td>5.082812</td>\n",
       "      <td>8.644115</td>\n",
       "      <td>38886.883882</td>\n",
       "      <td>0.247915</td>\n",
       "    </tr>\n",
       "    <tr>\n",
       "      <th>min</th>\n",
       "      <td>2003.000000</td>\n",
       "      <td>0.100000</td>\n",
       "      <td>0.320000</td>\n",
       "      <td>500.000000</td>\n",
       "      <td>0.000000</td>\n",
       "    </tr>\n",
       "    <tr>\n",
       "      <th>25%</th>\n",
       "      <td>2012.000000</td>\n",
       "      <td>0.900000</td>\n",
       "      <td>1.200000</td>\n",
       "      <td>15000.000000</td>\n",
       "      <td>0.000000</td>\n",
       "    </tr>\n",
       "    <tr>\n",
       "      <th>50%</th>\n",
       "      <td>2014.000000</td>\n",
       "      <td>3.600000</td>\n",
       "      <td>6.400000</td>\n",
       "      <td>32000.000000</td>\n",
       "      <td>0.000000</td>\n",
       "    </tr>\n",
       "    <tr>\n",
       "      <th>75%</th>\n",
       "      <td>2016.000000</td>\n",
       "      <td>6.000000</td>\n",
       "      <td>9.900000</td>\n",
       "      <td>48767.000000</td>\n",
       "      <td>0.000000</td>\n",
       "    </tr>\n",
       "    <tr>\n",
       "      <th>max</th>\n",
       "      <td>2018.000000</td>\n",
       "      <td>35.000000</td>\n",
       "      <td>92.600000</td>\n",
       "      <td>500000.000000</td>\n",
       "      <td>3.000000</td>\n",
       "    </tr>\n",
       "  </tbody>\n",
       "</table>\n",
       "</div>"
      ],
      "text/plain": [
       "              Year  Selling_Price  Present_Price     Kms_Driven       Owner\n",
       "count   301.000000     301.000000     301.000000     301.000000  301.000000\n",
       "mean   2013.627907       4.661296       7.628472   36947.205980    0.043189\n",
       "std       2.891554       5.082812       8.644115   38886.883882    0.247915\n",
       "min    2003.000000       0.100000       0.320000     500.000000    0.000000\n",
       "25%    2012.000000       0.900000       1.200000   15000.000000    0.000000\n",
       "50%    2014.000000       3.600000       6.400000   32000.000000    0.000000\n",
       "75%    2016.000000       6.000000       9.900000   48767.000000    0.000000\n",
       "max    2018.000000      35.000000      92.600000  500000.000000    3.000000"
      ]
     },
     "execution_count": 3,
     "metadata": {},
     "output_type": "execute_result"
    }
   ],
   "source": [
    "data.head()\n",
    "data.describe()"
   ]
  },
  {
   "cell_type": "code",
   "execution_count": 4,
   "id": "b40f1472",
   "metadata": {
    "execution": {
     "iopub.execute_input": "2023-12-25T18:51:03.609757Z",
     "iopub.status.busy": "2023-12-25T18:51:03.609062Z",
     "iopub.status.idle": "2023-12-25T18:51:03.615025Z",
     "shell.execute_reply": "2023-12-25T18:51:03.614330Z"
    },
    "papermill": {
     "duration": 0.017092,
     "end_time": "2023-12-25T18:51:03.617150",
     "exception": false,
     "start_time": "2023-12-25T18:51:03.600058",
     "status": "completed"
    },
    "tags": []
   },
   "outputs": [
    {
     "data": {
      "text/plain": [
       "(301, 9)"
      ]
     },
     "execution_count": 4,
     "metadata": {},
     "output_type": "execute_result"
    }
   ],
   "source": [
    "data.shape"
   ]
  },
  {
   "cell_type": "code",
   "execution_count": 5,
   "id": "f913c119",
   "metadata": {
    "execution": {
     "iopub.execute_input": "2023-12-25T18:51:03.635641Z",
     "iopub.status.busy": "2023-12-25T18:51:03.635019Z",
     "iopub.status.idle": "2023-12-25T18:51:03.647244Z",
     "shell.execute_reply": "2023-12-25T18:51:03.646460Z"
    },
    "papermill": {
     "duration": 0.023861,
     "end_time": "2023-12-25T18:51:03.649352",
     "exception": false,
     "start_time": "2023-12-25T18:51:03.625491",
     "status": "completed"
    },
    "tags": []
   },
   "outputs": [
    {
     "data": {
      "text/plain": [
       "array(['ritz', 'sx4', 'ciaz', 'wagon r', 'swift', 'vitara brezza',\n",
       "       's cross', 'alto 800', 'ertiga', 'dzire', 'alto k10', 'ignis',\n",
       "       '800', 'baleno', 'omni', 'fortuner', 'innova', 'corolla altis',\n",
       "       'etios cross', 'etios g', 'etios liva', 'corolla', 'etios gd',\n",
       "       'camry', 'land cruiser', 'Royal Enfield Thunder 500',\n",
       "       'UM Renegade Mojave', 'KTM RC200', 'Bajaj Dominar 400',\n",
       "       'Royal Enfield Classic 350', 'KTM RC390', 'Hyosung GT250R',\n",
       "       'Royal Enfield Thunder 350', 'KTM 390 Duke ',\n",
       "       'Mahindra Mojo XT300', 'Bajaj Pulsar RS200',\n",
       "       'Royal Enfield Bullet 350', 'Royal Enfield Classic 500',\n",
       "       'Bajaj Avenger 220', 'Bajaj Avenger 150', 'Honda CB Hornet 160R',\n",
       "       'Yamaha FZ S V 2.0', 'Yamaha FZ 16', 'TVS Apache RTR 160',\n",
       "       'Bajaj Pulsar 150', 'Honda CBR 150', 'Hero Extreme',\n",
       "       'Bajaj Avenger 220 dtsi', 'Bajaj Avenger 150 street',\n",
       "       'Yamaha FZ  v 2.0', 'Bajaj Pulsar  NS 200', 'Bajaj Pulsar 220 F',\n",
       "       'TVS Apache RTR 180', 'Hero Passion X pro', 'Bajaj Pulsar NS 200',\n",
       "       'Yamaha Fazer ', 'Honda Activa 4G', 'TVS Sport ',\n",
       "       'Honda Dream Yuga ', 'Bajaj Avenger Street 220',\n",
       "       'Hero Splender iSmart', 'Activa 3g', 'Hero Passion Pro',\n",
       "       'Honda CB Trigger', 'Yamaha FZ S ', 'Bajaj Pulsar 135 LS',\n",
       "       'Activa 4g', 'Honda CB Unicorn', 'Hero Honda CBZ extreme',\n",
       "       'Honda Karizma', 'Honda Activa 125', 'TVS Jupyter',\n",
       "       'Hero Honda Passion Pro', 'Hero Splender Plus', 'Honda CB Shine',\n",
       "       'Bajaj Discover 100', 'Suzuki Access 125', 'TVS Wego',\n",
       "       'Honda CB twister', 'Hero Glamour', 'Hero Super Splendor',\n",
       "       'Bajaj Discover 125', 'Hero Hunk', 'Hero  Ignitor Disc',\n",
       "       'Hero  CBZ Xtreme', 'Bajaj  ct 100', 'i20', 'grand i10', 'i10',\n",
       "       'eon', 'xcent', 'elantra', 'creta', 'verna', 'city', 'brio',\n",
       "       'amaze', 'jazz'], dtype=object)"
      ]
     },
     "execution_count": 5,
     "metadata": {},
     "output_type": "execute_result"
    }
   ],
   "source": [
    "data['Car_Name'].unique()"
   ]
  },
  {
   "cell_type": "code",
   "execution_count": 6,
   "id": "078f83ee",
   "metadata": {
    "execution": {
     "iopub.execute_input": "2023-12-25T18:51:03.667221Z",
     "iopub.status.busy": "2023-12-25T18:51:03.666592Z",
     "iopub.status.idle": "2023-12-25T18:51:03.672001Z",
     "shell.execute_reply": "2023-12-25T18:51:03.671132Z"
    },
    "papermill": {
     "duration": 0.016507,
     "end_time": "2023-12-25T18:51:03.673977",
     "exception": false,
     "start_time": "2023-12-25T18:51:03.657470",
     "status": "completed"
    },
    "tags": []
   },
   "outputs": [
    {
     "data": {
      "text/plain": [
       "array(['Petrol', 'Diesel', 'CNG'], dtype=object)"
      ]
     },
     "execution_count": 6,
     "metadata": {},
     "output_type": "execute_result"
    }
   ],
   "source": [
    "data['Fuel_Type'].unique()"
   ]
  },
  {
   "cell_type": "code",
   "execution_count": 7,
   "id": "013a2c99",
   "metadata": {
    "execution": {
     "iopub.execute_input": "2023-12-25T18:51:03.692722Z",
     "iopub.status.busy": "2023-12-25T18:51:03.691517Z",
     "iopub.status.idle": "2023-12-25T18:51:03.699490Z",
     "shell.execute_reply": "2023-12-25T18:51:03.698466Z"
    },
    "papermill": {
     "duration": 0.019211,
     "end_time": "2023-12-25T18:51:03.701484",
     "exception": false,
     "start_time": "2023-12-25T18:51:03.682273",
     "status": "completed"
    },
    "tags": []
   },
   "outputs": [
    {
     "data": {
      "text/plain": [
       "array(['Dealer', 'Individual'], dtype=object)"
      ]
     },
     "execution_count": 7,
     "metadata": {},
     "output_type": "execute_result"
    }
   ],
   "source": [
    "data['Seller_Type'].unique()"
   ]
  },
  {
   "cell_type": "code",
   "execution_count": 8,
   "id": "1849bab8",
   "metadata": {
    "execution": {
     "iopub.execute_input": "2023-12-25T18:51:03.719781Z",
     "iopub.status.busy": "2023-12-25T18:51:03.719304Z",
     "iopub.status.idle": "2023-12-25T18:51:03.724055Z",
     "shell.execute_reply": "2023-12-25T18:51:03.723466Z"
    },
    "papermill": {
     "duration": 0.015706,
     "end_time": "2023-12-25T18:51:03.725719",
     "exception": false,
     "start_time": "2023-12-25T18:51:03.710013",
     "status": "completed"
    },
    "tags": []
   },
   "outputs": [
    {
     "data": {
      "text/plain": [
       "array(['Manual', 'Automatic'], dtype=object)"
      ]
     },
     "execution_count": 8,
     "metadata": {},
     "output_type": "execute_result"
    }
   ],
   "source": [
    "data['Transmission'].unique()\n"
   ]
  },
  {
   "cell_type": "code",
   "execution_count": 9,
   "id": "5eabf0f7",
   "metadata": {
    "execution": {
     "iopub.execute_input": "2023-12-25T18:51:03.744320Z",
     "iopub.status.busy": "2023-12-25T18:51:03.743959Z",
     "iopub.status.idle": "2023-12-25T18:51:03.751453Z",
     "shell.execute_reply": "2023-12-25T18:51:03.750694Z"
    },
    "papermill": {
     "duration": 0.019322,
     "end_time": "2023-12-25T18:51:03.753810",
     "exception": false,
     "start_time": "2023-12-25T18:51:03.734488",
     "status": "completed"
    },
    "tags": []
   },
   "outputs": [
    {
     "data": {
      "text/plain": [
       "array([0, 1, 3])"
      ]
     },
     "execution_count": 9,
     "metadata": {},
     "output_type": "execute_result"
    }
   ],
   "source": [
    "data['Owner'].unique()\n"
   ]
  },
  {
   "cell_type": "code",
   "execution_count": 10,
   "id": "8ed667df",
   "metadata": {
    "execution": {
     "iopub.execute_input": "2023-12-25T18:51:03.772873Z",
     "iopub.status.busy": "2023-12-25T18:51:03.772405Z",
     "iopub.status.idle": "2023-12-25T18:51:03.777868Z",
     "shell.execute_reply": "2023-12-25T18:51:03.777064Z"
    },
    "papermill": {
     "duration": 0.017294,
     "end_time": "2023-12-25T18:51:03.779917",
     "exception": false,
     "start_time": "2023-12-25T18:51:03.762623",
     "status": "completed"
    },
    "tags": []
   },
   "outputs": [
    {
     "name": "stdout",
     "output_type": "stream",
     "text": [
      "['Petrol' 'Diesel' 'CNG']\n",
      "['Dealer' 'Individual']\n",
      "['Manual' 'Automatic']\n",
      "[0 1 3]\n"
     ]
    }
   ],
   "source": [
    "print(data['Fuel_Type'].unique())\n",
    "print(data['Seller_Type'].unique())\n",
    "print(data['Transmission'].unique())\n",
    "print(data['Owner'].unique())"
   ]
  },
  {
   "cell_type": "markdown",
   "id": "681c9ef8",
   "metadata": {
    "papermill": {
     "duration": 0.007855,
     "end_time": "2023-12-25T18:51:03.796322",
     "exception": false,
     "start_time": "2023-12-25T18:51:03.788467",
     "status": "completed"
    },
    "tags": []
   },
   "source": [
    "**Check for null values**"
   ]
  },
  {
   "cell_type": "code",
   "execution_count": 11,
   "id": "e6223a7e",
   "metadata": {
    "execution": {
     "iopub.execute_input": "2023-12-25T18:51:03.814271Z",
     "iopub.status.busy": "2023-12-25T18:51:03.813924Z",
     "iopub.status.idle": "2023-12-25T18:51:03.821839Z",
     "shell.execute_reply": "2023-12-25T18:51:03.820528Z"
    },
    "papermill": {
     "duration": 0.019345,
     "end_time": "2023-12-25T18:51:03.823954",
     "exception": false,
     "start_time": "2023-12-25T18:51:03.804609",
     "status": "completed"
    },
    "tags": []
   },
   "outputs": [
    {
     "data": {
      "text/plain": [
       "Car_Name         0\n",
       "Year             0\n",
       "Selling_Price    0\n",
       "Present_Price    0\n",
       "Kms_Driven       0\n",
       "Fuel_Type        0\n",
       "Seller_Type      0\n",
       "Transmission     0\n",
       "Owner            0\n",
       "dtype: int64"
      ]
     },
     "execution_count": 11,
     "metadata": {},
     "output_type": "execute_result"
    }
   ],
   "source": [
    "data.isnull().sum()"
   ]
  },
  {
   "cell_type": "code",
   "execution_count": 12,
   "id": "55a3981b",
   "metadata": {
    "execution": {
     "iopub.execute_input": "2023-12-25T18:51:03.842583Z",
     "iopub.status.busy": "2023-12-25T18:51:03.842279Z",
     "iopub.status.idle": "2023-12-25T18:51:03.861505Z",
     "shell.execute_reply": "2023-12-25T18:51:03.860336Z"
    },
    "papermill": {
     "duration": 0.030993,
     "end_time": "2023-12-25T18:51:03.863541",
     "exception": false,
     "start_time": "2023-12-25T18:51:03.832548",
     "status": "completed"
    },
    "tags": []
   },
   "outputs": [
    {
     "name": "stdout",
     "output_type": "stream",
     "text": [
      "<class 'pandas.core.frame.DataFrame'>\n",
      "RangeIndex: 301 entries, 0 to 300\n",
      "Data columns (total 9 columns):\n",
      " #   Column         Non-Null Count  Dtype  \n",
      "---  ------         --------------  -----  \n",
      " 0   Car_Name       301 non-null    object \n",
      " 1   Year           301 non-null    int64  \n",
      " 2   Selling_Price  301 non-null    float64\n",
      " 3   Present_Price  301 non-null    float64\n",
      " 4   Kms_Driven     301 non-null    int64  \n",
      " 5   Fuel_Type      301 non-null    object \n",
      " 6   Seller_Type    301 non-null    object \n",
      " 7   Transmission   301 non-null    object \n",
      " 8   Owner          301 non-null    int64  \n",
      "dtypes: float64(2), int64(3), object(4)\n",
      "memory usage: 21.3+ KB\n"
     ]
    }
   ],
   "source": [
    "data.info()"
   ]
  },
  {
   "cell_type": "markdown",
   "id": "9a1cb93e",
   "metadata": {
    "papermill": {
     "duration": 0.009278,
     "end_time": "2023-12-25T18:51:03.881991",
     "exception": false,
     "start_time": "2023-12-25T18:51:03.872713",
     "status": "completed"
    },
    "tags": []
   },
   "source": [
    "year, present price, kms driven, owner"
   ]
  },
  {
   "cell_type": "markdown",
   "id": "aa0ca92d",
   "metadata": {
    "papermill": {
     "duration": 0.008192,
     "end_time": "2023-12-25T18:51:03.899264",
     "exception": false,
     "start_time": "2023-12-25T18:51:03.891072",
     "status": "completed"
    },
    "tags": []
   },
   "source": [
    "**Since I am using linear regression, I am performing feature scalling and selecting the features of Year, Present_price, Kms_driven and owners and loading this from data into a 2D matrix called x_train and the prices corresponding to it in another 1D matrix y_train. I will use x_train and y_train to train my model.**"
   ]
  },
  {
   "cell_type": "code",
   "execution_count": 13,
   "id": "fcbed555",
   "metadata": {
    "execution": {
     "iopub.execute_input": "2023-12-25T18:51:03.922402Z",
     "iopub.status.busy": "2023-12-25T18:51:03.921814Z",
     "iopub.status.idle": "2023-12-25T18:51:03.935751Z",
     "shell.execute_reply": "2023-12-25T18:51:03.935157Z"
    },
    "papermill": {
     "duration": 0.030503,
     "end_time": "2023-12-25T18:51:03.938708",
     "exception": false,
     "start_time": "2023-12-25T18:51:03.908205",
     "status": "completed"
    },
    "tags": []
   },
   "outputs": [],
   "source": [
    "x_train = np.zeros((301, 4))\n",
    "for i in range(301):\n",
    "    x_train[i][0] = data['Year'][i]\n",
    "    x_train[i][1] = data['Present_Price'][i]\n",
    "    x_train[i][2] = data['Kms_Driven'][i]\n",
    "    x_train[i][3] = data['Owner'][i]\n",
    "    "
   ]
  },
  {
   "cell_type": "code",
   "execution_count": 14,
   "id": "85fb44f8",
   "metadata": {
    "execution": {
     "iopub.execute_input": "2023-12-25T18:51:03.957779Z",
     "iopub.status.busy": "2023-12-25T18:51:03.957440Z",
     "iopub.status.idle": "2023-12-25T18:51:03.964094Z",
     "shell.execute_reply": "2023-12-25T18:51:03.963140Z"
    },
    "papermill": {
     "duration": 0.017983,
     "end_time": "2023-12-25T18:51:03.965761",
     "exception": false,
     "start_time": "2023-12-25T18:51:03.947778",
     "status": "completed"
    },
    "tags": []
   },
   "outputs": [],
   "source": [
    "y_train = np.zeros((301, 1))\n",
    "for i in range(301):\n",
    "    y_train[i][0] = data['Selling_Price'][i]"
   ]
  },
  {
   "cell_type": "code",
   "execution_count": 15,
   "id": "4e85dd40",
   "metadata": {
    "execution": {
     "iopub.execute_input": "2023-12-25T18:51:03.985617Z",
     "iopub.status.busy": "2023-12-25T18:51:03.984598Z",
     "iopub.status.idle": "2023-12-25T18:51:03.989800Z",
     "shell.execute_reply": "2023-12-25T18:51:03.988670Z"
    },
    "papermill": {
     "duration": 0.016791,
     "end_time": "2023-12-25T18:51:03.991415",
     "exception": false,
     "start_time": "2023-12-25T18:51:03.974624",
     "status": "completed"
    },
    "tags": []
   },
   "outputs": [
    {
     "name": "stdout",
     "output_type": "stream",
     "text": [
      "x Shape: (301, 4), x Type:<class 'numpy.ndarray'>)\n",
      "y Shape: (301, 1), y Type:<class 'numpy.ndarray'>)\n"
     ]
    }
   ],
   "source": [
    "print(f\"x Shape: {x_train.shape}, x Type:{type(x_train)})\")\n",
    "print(f\"y Shape: {y_train.shape}, y Type:{type(y_train)})\")"
   ]
  },
  {
   "cell_type": "code",
   "execution_count": 16,
   "id": "3f28dcdb",
   "metadata": {
    "execution": {
     "iopub.execute_input": "2023-12-25T18:51:04.010143Z",
     "iopub.status.busy": "2023-12-25T18:51:04.009379Z",
     "iopub.status.idle": "2023-12-25T18:51:04.013073Z",
     "shell.execute_reply": "2023-12-25T18:51:04.012430Z"
    },
    "papermill": {
     "duration": 0.0149,
     "end_time": "2023-12-25T18:51:04.014979",
     "exception": false,
     "start_time": "2023-12-25T18:51:04.000079",
     "status": "completed"
    },
    "tags": []
   },
   "outputs": [],
   "source": [
    "x_features = ['Year', 'Present Price', 'Kms Driven', 'Owner']"
   ]
  },
  {
   "cell_type": "markdown",
   "id": "24f19e16",
   "metadata": {
    "papermill": {
     "duration": 0.008296,
     "end_time": "2023-12-25T18:51:04.032045",
     "exception": false,
     "start_time": "2023-12-25T18:51:04.023749",
     "status": "completed"
    },
    "tags": []
   },
   "source": [
    "**Normalizing the data using mean and standard deviation and plotting the unnormalized and normalized values**\n"
   ]
  },
  {
   "cell_type": "code",
   "execution_count": 17,
   "id": "920065cf",
   "metadata": {
    "execution": {
     "iopub.execute_input": "2023-12-25T18:51:04.050777Z",
     "iopub.status.busy": "2023-12-25T18:51:04.050200Z",
     "iopub.status.idle": "2023-12-25T18:51:04.777366Z",
     "shell.execute_reply": "2023-12-25T18:51:04.775538Z"
    },
    "papermill": {
     "duration": 0.739735,
     "end_time": "2023-12-25T18:51:04.780261",
     "exception": false,
     "start_time": "2023-12-25T18:51:04.040526",
     "status": "completed"
    },
    "tags": []
   },
   "outputs": [
    {
     "data": {
      "image/png": "[encoded data removed]",
      "text/plain": [
       "<Figure size 1200x300 with 3 Axes>"
      ]
     },
     "metadata": {},
     "output_type": "display_data"
    }
   ],
   "source": [
    "mu     = np.mean(x_train,axis=0)   \n",
    "sigma  = np.std(x_train,axis=0) \n",
    "x_mean = (x_train - mu)\n",
    "x_norm = (x_train - mu)/sigma      \n",
    "\n",
    "fig,ax=plt.subplots(1, 3, figsize=(12, 3))\n",
    "ax[0].scatter(x_train[:,0], x_train[:,3])\n",
    "ax[0].set_xlabel(x_features[0]); ax[0].set_ylabel(x_features[3]);\n",
    "ax[0].set_title(\"unnormalized\")\n",
    "ax[0].axis('equal')\n",
    "\n",
    "ax[1].scatter(x_mean[:,0], x_mean[:,3])\n",
    "ax[1].set_xlabel(x_features[0]); ax[0].set_ylabel(x_features[3]);\n",
    "ax[1].set_title(r\"x - $\\mu$\")\n",
    "ax[1].axis('equal')\n",
    "\n",
    "ax[2].scatter(x_norm[:,0], x_norm[:,3])\n",
    "ax[2].set_xlabel(x_features[0]); ax[0].set_ylabel(x_features[3])\n",
    "ax[2].set_title(r\"Z-score normalized\")\n",
    "ax[2].axis('equal')\n",
    "plt.tight_layout(rect=[0, 0.03, 1, 0.95])\n",
    "fig.suptitle(\"distribution of features before, during, after normalization\")\n",
    "plt.show()"
   ]
  },
  {
   "cell_type": "code",
   "execution_count": 18,
   "id": "9c97b0a6",
   "metadata": {
    "execution": {
     "iopub.execute_input": "2023-12-25T18:51:04.854241Z",
     "iopub.status.busy": "2023-12-25T18:51:04.853853Z",
     "iopub.status.idle": "2023-12-25T18:51:04.859122Z",
     "shell.execute_reply": "2023-12-25T18:51:04.857948Z"
    },
    "papermill": {
     "duration": 0.017772,
     "end_time": "2023-12-25T18:51:04.861063",
     "exception": false,
     "start_time": "2023-12-25T18:51:04.843291",
     "status": "completed"
    },
    "tags": []
   },
   "outputs": [],
   "source": [
    "def zscore_normalize_features(x):\n",
    "    \n",
    "    mu     = np.mean(x, axis=0)\n",
    "    sigma  = np.std(x, axis=0)     \n",
    "    x_norm = (x - mu) / sigma      \n",
    "\n",
    "    return (x_norm, mu, sigma)"
   ]
  },
  {
   "cell_type": "code",
   "execution_count": 19,
   "id": "7672e2af",
   "metadata": {
    "execution": {
     "iopub.execute_input": "2023-12-25T18:51:04.882167Z",
     "iopub.status.busy": "2023-12-25T18:51:04.880614Z",
     "iopub.status.idle": "2023-12-25T18:51:04.889570Z",
     "shell.execute_reply": "2023-12-25T18:51:04.887769Z"
    },
    "papermill": {
     "duration": 0.021784,
     "end_time": "2023-12-25T18:51:04.892140",
     "exception": false,
     "start_time": "2023-12-25T18:51:04.870356",
     "status": "completed"
    },
    "tags": []
   },
   "outputs": [
    {
     "name": "stdout",
     "output_type": "stream",
     "text": [
      "X_mu = [2.01362791e+03 7.62847176e+00 3.69472060e+04 4.31893688e-02], \n",
      "X_sigma = [2.88674689e+00 8.62974446e+00 3.88222340e+04 2.47502731e-01]\n",
      "Peak to Peak range by column in Raw        X:[1.500e+01 9.228e+01 4.995e+05 3.000e+00]\n",
      "Peak to Peak range by column in Normalized X:[ 5.19616045 10.69324827 12.8663384  12.12107836]\n"
     ]
    }
   ],
   "source": [
    "X_norm, X_mu, X_sigma = zscore_normalize_features(x_train)\n",
    "print(f\"X_mu = {X_mu}, \\nX_sigma = {X_sigma}\")\n",
    "print(f\"Peak to Peak range by column in Raw        X:{np.ptp(x_train,axis=0)}\") \n",
    "print(f\"Peak to Peak range by column in Normalized X:{np.ptp(X_norm,axis=0)}\")"
   ]
  },
  {
   "cell_type": "code",
   "execution_count": 20,
   "id": "2bac9bb3",
   "metadata": {
    "execution": {
     "iopub.execute_input": "2023-12-25T18:51:04.913391Z",
     "iopub.status.busy": "2023-12-25T18:51:04.912248Z",
     "iopub.status.idle": "2023-12-25T18:51:05.882280Z",
     "shell.execute_reply": "2023-12-25T18:51:05.881319Z"
    },
    "papermill": {
     "duration": 0.982919,
     "end_time": "2023-12-25T18:51:05.884766",
     "exception": false,
     "start_time": "2023-12-25T18:51:04.901847",
     "status": "completed"
    },
    "tags": []
   },
   "outputs": [],
   "source": [
    "from scipy.stats import norm"
   ]
  },
  {
   "cell_type": "code",
   "execution_count": 21,
   "id": "223d065f",
   "metadata": {
    "execution": {
     "iopub.execute_input": "2023-12-25T18:51:05.905686Z",
     "iopub.status.busy": "2023-12-25T18:51:05.905328Z",
     "iopub.status.idle": "2023-12-25T18:51:05.911617Z",
     "shell.execute_reply": "2023-12-25T18:51:05.910757Z"
    },
    "papermill": {
     "duration": 0.019079,
     "end_time": "2023-12-25T18:51:05.913572",
     "exception": false,
     "start_time": "2023-12-25T18:51:05.894493",
     "status": "completed"
    },
    "tags": []
   },
   "outputs": [],
   "source": [
    "def norm_plot(ax, data):\n",
    "    scale = (np.max(data) - np.min(data))*0.2\n",
    "    x = np.linspace(np.min(data)-scale,np.max(data)+scale,50)\n",
    "    _,bins, _ = ax.hist(data, x, color=\"xkcd:azure\")\n",
    "    \n",
    "    mu = np.mean(data); \n",
    "    std = np.std(data); \n",
    "    dist = norm.pdf(bins, loc=mu, scale = std)\n",
    "    \n",
    "    axr = ax.twinx()\n",
    "    axr.plot(bins,dist, color = \"orangered\", lw=2)\n",
    "    axr.set_ylim(bottom=0)\n",
    "    axr.axis('off')"
   ]
  },
  {
   "cell_type": "code",
   "execution_count": 22,
   "id": "5f70ac74",
   "metadata": {
    "execution": {
     "iopub.execute_input": "2023-12-25T18:51:05.935439Z",
     "iopub.status.busy": "2023-12-25T18:51:05.935063Z",
     "iopub.status.idle": "2023-12-25T18:51:07.430908Z",
     "shell.execute_reply": "2023-12-25T18:51:07.429452Z"
    },
    "papermill": {
     "duration": 1.509516,
     "end_time": "2023-12-25T18:51:07.433301",
     "exception": false,
     "start_time": "2023-12-25T18:51:05.923785",
     "status": "completed"
    },
    "tags": []
   },
   "outputs": [
    {
     "data": {
      "image/png": "[encoded data removed]",
      "text/plain": [
       "<Figure size 1200x300 with 8 Axes>"
      ]
     },
     "metadata": {},
     "output_type": "display_data"
    },
    {
     "data": {
      "image/png": "[encoded data removed]",
      "text/plain": [
       "<Figure size 1200x300 with 8 Axes>"
      ]
     },
     "metadata": {},
     "output_type": "display_data"
    }
   ],
   "source": [
    "fig, ax = plt.subplots(1, 4, figsize=(12, 3))\n",
    "for i in range(len(ax)):\n",
    "    norm_plot(ax[i], x_train[:,i],)\n",
    "    ax[i].set_xlabel(x_features[i])\n",
    "ax[0].set_ylabel(\"count\")\n",
    "fig.suptitle(\"Distribution of features before normalization\")\n",
    "plt.show()\n",
    "fig, ax = plt.subplots(1,4, figsize=(12,3))\n",
    "for i in range(len(ax)):\n",
    "    norm_plot(ax[i], X_norm[:,i],)\n",
    "    ax[i].set_xlabel(x_features[i])\n",
    "ax[0].set_ylabel(\"count\")\n",
    "fig.suptitle(\"Distribution of feartures after normalization\")\n",
    "plt.show()"
   ]
  },
  {
   "cell_type": "markdown",
   "id": "f0907a60",
   "metadata": {
    "papermill": {
     "duration": 0.010628,
     "end_time": "2023-12-25T18:51:07.454495",
     "exception": false,
     "start_time": "2023-12-25T18:51:07.443867",
     "status": "completed"
    },
    "tags": []
   },
   "source": [
    "**I am performing gradient descent on my model using a large learning rate alpha to make it converge to a minimum static value fast**"
   ]
  },
  {
   "cell_type": "code",
   "execution_count": 23,
   "id": "9dd2104e",
   "metadata": {
    "execution": {
     "iopub.execute_input": "2023-12-25T18:51:07.476811Z",
     "iopub.status.busy": "2023-12-25T18:51:07.476460Z",
     "iopub.status.idle": "2023-12-25T18:51:07.485836Z",
     "shell.execute_reply": "2023-12-25T18:51:07.484668Z"
    },
    "papermill": {
     "duration": 0.022841,
     "end_time": "2023-12-25T18:51:07.487860",
     "exception": false,
     "start_time": "2023-12-25T18:51:07.465019",
     "status": "completed"
    },
    "tags": []
   },
   "outputs": [],
   "source": [
    "def gradient_descent(x, y, w_in, b_in, cost_func, gradient_func, alpha, num_iters):\n",
    "    m = len(x) #no of training examples\n",
    "    hist = {}\n",
    "    hist[\"cost\"] = []; hist[\"prmtrs\"] = []; hist[\"grads\"] = []; hist[\"iters\"] = []\n",
    "    w = copy.deepcopy(w_in)\n",
    "    b = b_in\n",
    "    interval = np.ceil(num_iters / 10000)\n",
    "    print(f\"Iteration Cost, w0, w1, w2, w3, b, djdw0, djdw1, djdw2, djdw3, djdb\")\n",
    "    \n",
    "    for i in range(num_iters):\n",
    "        dj_db, dj_dw = gradient_func(x,y,w,b)\n",
    "        w = w.reshape(-1,1)\n",
    "        w = w - alpha * dj_dw\n",
    "        b = b - alpha * dj_db\n",
    "        #for graphing\n",
    "        if i == 0 or i%interval == 0:\n",
    "            hist[\"cost\"].append(cost_func(x, y, w, b))\n",
    "            hist[\"prmtrs\"].append([w,b])\n",
    "            hist[\"grads\"].append([dj_dw, dj_db])\n",
    "            hist[\"iters\"].append(i)\n",
    "        #for printing at every 10 iterations or if i < 10 then for all iterations\n",
    "        if i% math.ceil(num_iters/10) == 0:\n",
    "            cst = cost_func(x,y,w,b)\n",
    "            print(f\"Iteration : {i}\")\n",
    "            print(f\"{cst : .2f} {w[0]} {w[1]} {w[2]} {w[3]} {b} {dj_dw[0]} {dj_dw[1]} {dj_dw[2]} {dj_dw[3]} {dj_db}\")\n",
    "            \n",
    "    return w,b,hist"
   ]
  },
  {
   "cell_type": "code",
   "execution_count": 24,
   "id": "a2f16085",
   "metadata": {
    "execution": {
     "iopub.execute_input": "2023-12-25T18:51:07.510401Z",
     "iopub.status.busy": "2023-12-25T18:51:07.510021Z",
     "iopub.status.idle": "2023-12-25T18:51:07.516066Z",
     "shell.execute_reply": "2023-12-25T18:51:07.515158Z"
    },
    "papermill": {
     "duration": 0.020102,
     "end_time": "2023-12-25T18:51:07.518440",
     "exception": false,
     "start_time": "2023-12-25T18:51:07.498338",
     "status": "completed"
    },
    "tags": []
   },
   "outputs": [],
   "source": [
    "def compute_cost(x,y,w,b):\n",
    "    m = x.shape[0]\n",
    "    cost = 0.0\n",
    "    for i in range(m):\n",
    "        f_wb = np.dot(x[i], w) + b\n",
    "        cost += (f_wb - y[i]) ** 2\n",
    "    cost = cost / (2 * m)\n",
    "    return (np.squeeze(cost))"
   ]
  },
  {
   "cell_type": "code",
   "execution_count": 25,
   "id": "516116d0",
   "metadata": {
    "execution": {
     "iopub.execute_input": "2023-12-25T18:51:07.541483Z",
     "iopub.status.busy": "2023-12-25T18:51:07.540399Z",
     "iopub.status.idle": "2023-12-25T18:51:07.546812Z",
     "shell.execute_reply": "2023-12-25T18:51:07.545864Z"
    },
    "papermill": {
     "duration": 0.019673,
     "end_time": "2023-12-25T18:51:07.548654",
     "exception": false,
     "start_time": "2023-12-25T18:51:07.528981",
     "status": "completed"
    },
    "tags": []
   },
   "outputs": [],
   "source": [
    "def compute_gradient_matrix(X, y, w, b):     \n",
    "    m,n = X.shape\n",
    "    f_wb = X @ w + b\n",
    "    f_wb = f_wb.reshape(-1, 1)\n",
    "    e = np.array((4,1))\n",
    "    e   = f_wb - y\n",
    "    dj_dw  = (1/m) * (X.T @ e)\n",
    "    dj_db  = (1/m) * np.sum(e)\n",
    "        \n",
    "    return dj_db,dj_dw"
   ]
  },
  {
   "cell_type": "code",
   "execution_count": 26,
   "id": "6f2402d8",
   "metadata": {
    "execution": {
     "iopub.execute_input": "2023-12-25T18:51:07.572762Z",
     "iopub.status.busy": "2023-12-25T18:51:07.572408Z",
     "iopub.status.idle": "2023-12-25T18:51:07.577747Z",
     "shell.execute_reply": "2023-12-25T18:51:07.577100Z"
    },
    "papermill": {
     "duration": 0.02004,
     "end_time": "2023-12-25T18:51:07.579739",
     "exception": false,
     "start_time": "2023-12-25T18:51:07.559699",
     "status": "completed"
    },
    "tags": []
   },
   "outputs": [],
   "source": [
    "def run_gradient_descent(x,y,iterations=1000, alpha = 1e-6):\n",
    "\n",
    "    m,n = x.shape\n",
    "    initial_w = np.zeros(n)\n",
    "    initial_b = 0\n",
    "    # run gradient descent\n",
    "    w_out, b_out, hist_out = gradient_descent(x ,y, initial_w, initial_b,\n",
    "                                               compute_cost, compute_gradient_matrix, alpha, iterations)\n",
    "    print(f\" \\n\\n w,b found by gradient descent:\\n w: {w_out}, \\n b: {b_out:0.2f}\")\n",
    "    \n",
    "    return(w_out, b_out, hist_out)"
   ]
  },
  {
   "cell_type": "markdown",
   "id": "9c7e9a7c",
   "metadata": {
    "papermill": {
     "duration": 0.010825,
     "end_time": "2023-12-25T18:51:07.601743",
     "exception": false,
     "start_time": "2023-12-25T18:51:07.590918",
     "status": "completed"
    },
    "tags": []
   },
   "source": [
    "**This cell's output shows how my w and b vary with every iterations, printing at a gap of every 100 iteration in this case**"
   ]
  },
  {
   "cell_type": "code",
   "execution_count": 27,
   "id": "7ba04952",
   "metadata": {
    "execution": {
     "iopub.execute_input": "2023-12-25T18:51:07.624594Z",
     "iopub.status.busy": "2023-12-25T18:51:07.624245Z",
     "iopub.status.idle": "2023-12-25T18:51:09.195767Z",
     "shell.execute_reply": "2023-12-25T18:51:09.193990Z"
    },
    "papermill": {
     "duration": 1.585422,
     "end_time": "2023-12-25T18:51:09.197908",
     "exception": false,
     "start_time": "2023-12-25T18:51:07.612486",
     "status": "completed"
    },
    "tags": []
   },
   "outputs": [
    {
     "name": "stdout",
     "output_type": "stream",
     "text": [
      "Iteration Cost, w0, w1, w2, w3, b, djdw0, djdw1, djdw2, djdw3, djdb\n",
      "Iteration : 0\n",
      " 19.63 [0.11982647] [0.4460275] [0.01481058] [-0.04482899] 0.46612956810631234 [-1.19826466] [-4.46027503] [-0.14810584] [0.44828988] -4.661295681063123\n",
      "Iteration : 100\n",
      " 1.90 [1.34571745] [4.53593614] [-0.04880273] [-0.23548651] 4.661184251582637 [8.62946421e-05] [-0.00022878] [0.00020677] [-7.15227697e-05] -0.0001238105339175753\n",
      "Iteration : 200\n",
      " 1.90 [1.34544696] [4.53621283] [-0.04919948] [-0.23543788] 4.661295678103439 [1.70863532e-06] [-5.13941113e-07] [1.76273171e-06] [2.76179621e-07] -3.2885817627567934e-09\n",
      "Iteration : 300\n",
      " 1.90 [1.34544333] [4.5362139] [-0.04920322] [-0.23543848] 4.661295681063084 [1.8003306e-08] [-5.28379564e-09] [1.84757185e-08] [3.01515935e-09] -8.781458395440441e-14\n",
      "Iteration : 400\n",
      " 1.90 [1.34544329] [4.53621392] [-0.04920326] [-0.23543849] 4.66129568106316 [1.89111835e-10] [-5.54926943e-11] [1.94066792e-10] [3.1681336e-11] -3.588122785233728e-15\n",
      "Iteration : 500\n",
      " 1.90 [1.34544329] [4.53621392] [-0.04920326] [-0.23543849] 4.66129568106316 [1.98632473e-12] [-5.82696912e-13] [2.03854818e-12] [3.32811528e-13] -3.4700924304563035e-15\n",
      "Iteration : 600\n",
      " 1.90 [1.34544329] [4.53621392] [-0.04920326] [-0.23543849] 4.66129568106316 [2.07325851e-14] [-6.92704476e-15] [2.14964628e-14] [3.4624389e-15] -3.4700924304563035e-15\n",
      "Iteration : 700\n",
      " 1.90 [1.34544329] [4.53621392] [-0.04920326] [-0.23543849] 4.66129568106316 [9.15288517e-16] [-3.72768446e-15] [6.06749793e-17] [6.72219755e-17] -3.3992742175898482e-15\n",
      "Iteration : 800\n",
      " 1.90 [1.34544329] [4.53621392] [-0.04920326] [-0.23543849] 4.66129568106316 [9.15288517e-16] [-3.73063522e-15] [2.37904934e-17] [6.68531306e-17] -3.4464863595008183e-15\n",
      "Iteration : 900\n",
      " 1.90 [1.34544329] [4.53621392] [-0.04920326] [-0.23543849] 4.66129568106316 [9.15288517e-16] [-3.73063522e-15] [2.37904934e-17] [6.68531306e-17] -3.4464863595008183e-15\n",
      " \n",
      "\n",
      " w,b found by gradient descent:\n",
      " w: [[ 1.34544329]\n",
      " [ 4.53621392]\n",
      " [-0.04920326]\n",
      " [-0.23543849]], \n",
      " b: 4.66\n"
     ]
    }
   ],
   "source": [
    "w_norm, b_norm, hist = run_gradient_descent(X_norm, y_train, 1000, 1.0e-1, )"
   ]
  },
  {
   "cell_type": "markdown",
   "id": "77b78a7e",
   "metadata": {
    "papermill": {
     "duration": 0.011624,
     "end_time": "2023-12-25T18:51:09.221429",
     "exception": false,
     "start_time": "2023-12-25T18:51:09.209805",
     "status": "completed"
    },
    "tags": []
   },
   "source": [
    "**Finally predicting my value using this w_norm and b_norm obtained and plotting the output. The output almost matches the real value so my prediction looks decent and my model is trained almost correctly using linear regression and gradient descent !!**"
   ]
  },
  {
   "cell_type": "code",
   "execution_count": 28,
   "id": "168ac9fa",
   "metadata": {
    "execution": {
     "iopub.execute_input": "2023-12-25T18:51:09.245002Z",
     "iopub.status.busy": "2023-12-25T18:51:09.244622Z",
     "iopub.status.idle": "2023-12-25T18:51:09.861519Z",
     "shell.execute_reply": "2023-12-25T18:51:09.860423Z"
    },
    "papermill": {
     "duration": 0.634801,
     "end_time": "2023-12-25T18:51:09.867385",
     "exception": false,
     "start_time": "2023-12-25T18:51:09.232584",
     "status": "completed"
    },
    "tags": []
   },
   "outputs": [
    {
     "data": {
      "image/png": "[encoded data removed]",
      "text/plain": [
       "<Figure size 1200x300 with 4 Axes>"
      ]
     },
     "metadata": {},
     "output_type": "display_data"
    }
   ],
   "source": [
    "m = X_norm.shape[0]\n",
    "yp = np.zeros(m)\n",
    "for i in range(m):\n",
    "    yp[i] = np.dot(X_norm[i], w_norm) + b_norm  \n",
    "fig,ax=plt.subplots(1,4,figsize=(12, 3),sharey=True)\n",
    "for i in range(len(ax)):\n",
    "    ax[i].scatter(x_train[:,i],y_train, label = 'target')\n",
    "    ax[i].set_xlabel(x_features[i])\n",
    "    ax[i].scatter(x_train[:,i],yp,color='red', label = 'predict')\n",
    "ax[0].set_ylabel(\"Price\") \n",
    "ax[0].legend()\n",
    "fig.suptitle(\"target versus prediction using z-score normalized model\")\n",
    "plt.show()"
   ]
  },
  {
   "cell_type": "markdown",
   "id": "88cd0b0a",
   "metadata": {
    "papermill": {
     "duration": 0.014874,
     "end_time": "2023-12-25T18:51:09.897352",
     "exception": false,
     "start_time": "2023-12-25T18:51:09.882478",
     "status": "completed"
    },
    "tags": []
   },
   "source": [
    "**Lets, predict the price for a particular car with data as -**"
   ]
  },
  {
   "cell_type": "code",
   "execution_count": 29,
   "id": "7e91d6d2",
   "metadata": {
    "execution": {
     "iopub.execute_input": "2023-12-25T18:51:09.922610Z",
     "iopub.status.busy": "2023-12-25T18:51:09.922304Z",
     "iopub.status.idle": "2023-12-25T18:51:09.928539Z",
     "shell.execute_reply": "2023-12-25T18:51:09.927660Z"
    },
    "papermill": {
     "duration": 0.020649,
     "end_time": "2023-12-25T18:51:09.930624",
     "exception": false,
     "start_time": "2023-12-25T18:51:09.909975",
     "status": "completed"
    },
    "tags": []
   },
   "outputs": [
    {
     "name": "stdout",
     "output_type": "stream",
     "text": [
      "The normalised car data is \n",
      "[ 0.128897   -0.07166745  0.56804547 -0.17450057]\n",
      " Predicted price of a car of year 2014, with present price 7.01, has run 59000 km and owner changed is 0 = $[4.52275488]\n"
     ]
    }
   ],
   "source": [
    "x_car = np.array([2014, 7.01, 59000, 0])\n",
    "x_car_norm = (x_car - X_mu) / X_sigma\n",
    "print(\"The normalised car data is \")\n",
    "print(x_car_norm)\n",
    "x_car_predict = np.dot(x_car_norm, w_norm) + b_norm\n",
    "print(f\" Predicted price of a car of year 2014, with present price 7.01, has run 59000 km and owner changed is 0 = ${x_car_predict}\")"
   ]
  },
  {
   "cell_type": "markdown",
   "id": "65d1836d",
   "metadata": {
    "papermill": {
     "duration": 0.010907,
     "end_time": "2023-12-25T18:51:09.952754",
     "exception": false,
     "start_time": "2023-12-25T18:51:09.941847",
     "status": "completed"
    },
    "tags": []
   },
   "source": [
    "**Since its my first machine learning model using one of the basic models of linear regression where I have normalized my data and then performed gradient descent and predicted value which is quite close to actual selling price, so I am quite satisfied with it :)**"
   ]
  }
 ],
 "metadata": {
  "kaggle": {
   "accelerator": "none",
   "dataSources": [
    {
     "datasetId": 4210881,
     "sourceId": 7265027,
     "sourceType": "datasetVersion"
    }
   ],
   "dockerImageVersionId": 30626,
   "isGpuEnabled": false,
   "isInternetEnabled": true,
   "language": "python",
   "sourceType": "notebook"
  },
  "kernelspec": {
   "display_name": "Python 3",
   "language": "python",
   "name": "python3"
  },
  "language_info": {
   "codemirror_mode": {
    "name": "ipython",
    "version": 3
   },
   "file_extension": ".py",
   "mimetype": "text/x-python",
   "name": "python",
   "nbconvert_exporter": "python",
   "pygments_lexer": "ipython3",
   "version": "3.10.12"
  },
  "papermill": {
   "default_parameters": {},
   "duration": 9.984299,
   "end_time": "2023-12-25T18:51:10.488850",
   "environment_variables": {},
   "exception": null,
   "input_path": "__notebook__.ipynb",
   "output_path": "__notebook__.ipynb",
   "parameters": {},
   "start_time": "2023-12-25T18:51:00.504551",
   "version": "2.4.0"
  }
 },
 "nbformat": 4,
 "nbformat_minor": 5
}
